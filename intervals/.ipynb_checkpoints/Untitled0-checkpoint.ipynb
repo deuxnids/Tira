{
 "metadata": {
  "name": "",
  "signature": "sha256:fea2ecd48e0c6c26924adbf5ad4aa9733a55f4a89adf301f1b112dbfb8a14303"
 },
 "nbformat": 3,
 "nbformat_minor": 0,
 "worksheets": []
}